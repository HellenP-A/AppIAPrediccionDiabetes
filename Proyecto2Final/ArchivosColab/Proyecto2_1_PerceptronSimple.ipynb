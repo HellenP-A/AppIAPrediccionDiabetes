{
  "nbformat": 4,
  "nbformat_minor": 0,
  "metadata": {
    "colab": {
      "provenance": []
    },
    "kernelspec": {
      "name": "python3",
      "display_name": "Python 3"
    },
    "language_info": {
      "name": "python"
    }
  },
  "cells": [
    {
      "cell_type": "markdown",
      "source": [
        "# Aplicación de Inteligencia Artificial\n",
        "\n",
        "Hellen Aguilar Noguera\n",
        "\n",
        "José Leonardo Araya Parajeles\n",
        "\n",
        "*Universidad CENFOTEC*"
      ],
      "metadata": {
        "id": "_oRYl95S8W3g"
      }
    },
    {
      "cell_type": "markdown",
      "source": [
        "# Clasificación binaria con Perceptrón simple usando dataset Iris"
      ],
      "metadata": {
        "id": "yD0MwTxH8nRE"
      }
    },
    {
      "cell_type": "markdown",
      "source": [
        "# Se realizan las importaciones requeridas"
      ],
      "metadata": {
        "id": "tFqsjm1k8ube"
      }
    },
    {
      "cell_type": "code",
      "source": [
        "# Importar las librerías necesarias\n",
        "import numpy as np\n",
        "import pandas as pd\n"
      ],
      "metadata": {
        "id": "IA4o4vpH8zAr"
      },
      "execution_count": null,
      "outputs": []
    },
    {
      "cell_type": "markdown",
      "source": [
        "# Se cargar el dataset y además realizamos la exploracion del dataset Iris"
      ],
      "metadata": {
        "id": "1viS_5-A827Y"
      }
    },
    {
      "cell_type": "code",
      "source": [
        "# Cargar el dataset Iris desde UCI Machine Learning Repository\n",
        "url = \"https://archive.ics.uci.edu/ml/machine-learning-databases/iris/iris.data\"\n",
        "\n",
        "# Asignar nombres a columnas, los cuales corresponde al la longitud, el ancho, del sépalo, la longitud y ancho del pétalo y finalmente la clase o especie,\n",
        "# Para nuestro caso la Especie de Iris a la que pertenece la flor (Iris-setosa, Iris-versicolor, Iris-virginica).\n",
        "df = pd.read_csv(url, header=None, names=[\"sepal_length\", \"sepal_width\", \"petal_length\", \"petal_width\", \"class\"])\n",
        "\n",
        "# Mostrar primeros registros del dataset\n",
        "df.head()\n"
      ],
      "metadata": {
        "colab": {
          "base_uri": "https://localhost:8080/",
          "height": 206
        },
        "id": "5_qil2gj9BG0",
        "outputId": "8a229724-4c49-4a8b-b14b-b34ed63bbcf7"
      },
      "execution_count": null,
      "outputs": [
        {
          "output_type": "execute_result",
          "data": {
            "text/plain": [
              "   sepal_length  sepal_width  petal_length  petal_width        class\n",
              "0           5.1          3.5           1.4          0.2  Iris-setosa\n",
              "1           4.9          3.0           1.4          0.2  Iris-setosa\n",
              "2           4.7          3.2           1.3          0.2  Iris-setosa\n",
              "3           4.6          3.1           1.5          0.2  Iris-setosa\n",
              "4           5.0          3.6           1.4          0.2  Iris-setosa"
            ],
            "text/html": [
              "\n",
              "  <div id=\"df-e76cf28f-ebdd-4f46-884e-3fef94e26c35\" class=\"colab-df-container\">\n",
              "    <div>\n",
              "<style scoped>\n",
              "    .dataframe tbody tr th:only-of-type {\n",
              "        vertical-align: middle;\n",
              "    }\n",
              "\n",
              "    .dataframe tbody tr th {\n",
              "        vertical-align: top;\n",
              "    }\n",
              "\n",
              "    .dataframe thead th {\n",
              "        text-align: right;\n",
              "    }\n",
              "</style>\n",
              "<table border=\"1\" class=\"dataframe\">\n",
              "  <thead>\n",
              "    <tr style=\"text-align: right;\">\n",
              "      <th></th>\n",
              "      <th>sepal_length</th>\n",
              "      <th>sepal_width</th>\n",
              "      <th>petal_length</th>\n",
              "      <th>petal_width</th>\n",
              "      <th>class</th>\n",
              "    </tr>\n",
              "  </thead>\n",
              "  <tbody>\n",
              "    <tr>\n",
              "      <th>0</th>\n",
              "      <td>5.1</td>\n",
              "      <td>3.5</td>\n",
              "      <td>1.4</td>\n",
              "      <td>0.2</td>\n",
              "      <td>Iris-setosa</td>\n",
              "    </tr>\n",
              "    <tr>\n",
              "      <th>1</th>\n",
              "      <td>4.9</td>\n",
              "      <td>3.0</td>\n",
              "      <td>1.4</td>\n",
              "      <td>0.2</td>\n",
              "      <td>Iris-setosa</td>\n",
              "    </tr>\n",
              "    <tr>\n",
              "      <th>2</th>\n",
              "      <td>4.7</td>\n",
              "      <td>3.2</td>\n",
              "      <td>1.3</td>\n",
              "      <td>0.2</td>\n",
              "      <td>Iris-setosa</td>\n",
              "    </tr>\n",
              "    <tr>\n",
              "      <th>3</th>\n",
              "      <td>4.6</td>\n",
              "      <td>3.1</td>\n",
              "      <td>1.5</td>\n",
              "      <td>0.2</td>\n",
              "      <td>Iris-setosa</td>\n",
              "    </tr>\n",
              "    <tr>\n",
              "      <th>4</th>\n",
              "      <td>5.0</td>\n",
              "      <td>3.6</td>\n",
              "      <td>1.4</td>\n",
              "      <td>0.2</td>\n",
              "      <td>Iris-setosa</td>\n",
              "    </tr>\n",
              "  </tbody>\n",
              "</table>\n",
              "</div>\n",
              "    <div class=\"colab-df-buttons\">\n",
              "\n",
              "  <div class=\"colab-df-container\">\n",
              "    <button class=\"colab-df-convert\" onclick=\"convertToInteractive('df-e76cf28f-ebdd-4f46-884e-3fef94e26c35')\"\n",
              "            title=\"Convert this dataframe to an interactive table.\"\n",
              "            style=\"display:none;\">\n",
              "\n",
              "  <svg xmlns=\"http://www.w3.org/2000/svg\" height=\"24px\" viewBox=\"0 -960 960 960\">\n",
              "    <path d=\"M120-120v-720h720v720H120Zm60-500h600v-160H180v160Zm220 220h160v-160H400v160Zm0 220h160v-160H400v160ZM180-400h160v-160H180v160Zm440 0h160v-160H620v160ZM180-180h160v-160H180v160Zm440 0h160v-160H620v160Z\"/>\n",
              "  </svg>\n",
              "    </button>\n",
              "\n",
              "  <style>\n",
              "    .colab-df-container {\n",
              "      display:flex;\n",
              "      gap: 12px;\n",
              "    }\n",
              "\n",
              "    .colab-df-convert {\n",
              "      background-color: #E8F0FE;\n",
              "      border: none;\n",
              "      border-radius: 50%;\n",
              "      cursor: pointer;\n",
              "      display: none;\n",
              "      fill: #1967D2;\n",
              "      height: 32px;\n",
              "      padding: 0 0 0 0;\n",
              "      width: 32px;\n",
              "    }\n",
              "\n",
              "    .colab-df-convert:hover {\n",
              "      background-color: #E2EBFA;\n",
              "      box-shadow: 0px 1px 2px rgba(60, 64, 67, 0.3), 0px 1px 3px 1px rgba(60, 64, 67, 0.15);\n",
              "      fill: #174EA6;\n",
              "    }\n",
              "\n",
              "    .colab-df-buttons div {\n",
              "      margin-bottom: 4px;\n",
              "    }\n",
              "\n",
              "    [theme=dark] .colab-df-convert {\n",
              "      background-color: #3B4455;\n",
              "      fill: #D2E3FC;\n",
              "    }\n",
              "\n",
              "    [theme=dark] .colab-df-convert:hover {\n",
              "      background-color: #434B5C;\n",
              "      box-shadow: 0px 1px 3px 1px rgba(0, 0, 0, 0.15);\n",
              "      filter: drop-shadow(0px 1px 2px rgba(0, 0, 0, 0.3));\n",
              "      fill: #FFFFFF;\n",
              "    }\n",
              "  </style>\n",
              "\n",
              "    <script>\n",
              "      const buttonEl =\n",
              "        document.querySelector('#df-e76cf28f-ebdd-4f46-884e-3fef94e26c35 button.colab-df-convert');\n",
              "      buttonEl.style.display =\n",
              "        google.colab.kernel.accessAllowed ? 'block' : 'none';\n",
              "\n",
              "      async function convertToInteractive(key) {\n",
              "        const element = document.querySelector('#df-e76cf28f-ebdd-4f46-884e-3fef94e26c35');\n",
              "        const dataTable =\n",
              "          await google.colab.kernel.invokeFunction('convertToInteractive',\n",
              "                                                    [key], {});\n",
              "        if (!dataTable) return;\n",
              "\n",
              "        const docLinkHtml = 'Like what you see? Visit the ' +\n",
              "          '<a target=\"_blank\" href=https://colab.research.google.com/notebooks/data_table.ipynb>data table notebook</a>'\n",
              "          + ' to learn more about interactive tables.';\n",
              "        element.innerHTML = '';\n",
              "        dataTable['output_type'] = 'display_data';\n",
              "        await google.colab.output.renderOutput(dataTable, element);\n",
              "        const docLink = document.createElement('div');\n",
              "        docLink.innerHTML = docLinkHtml;\n",
              "        element.appendChild(docLink);\n",
              "      }\n",
              "    </script>\n",
              "  </div>\n",
              "\n",
              "\n",
              "<div id=\"df-0438de23-d07e-425e-8654-8030acdf8942\">\n",
              "  <button class=\"colab-df-quickchart\" onclick=\"quickchart('df-0438de23-d07e-425e-8654-8030acdf8942')\"\n",
              "            title=\"Suggest charts\"\n",
              "            style=\"display:none;\">\n",
              "\n",
              "<svg xmlns=\"http://www.w3.org/2000/svg\" height=\"24px\"viewBox=\"0 0 24 24\"\n",
              "     width=\"24px\">\n",
              "    <g>\n",
              "        <path d=\"M19 3H5c-1.1 0-2 .9-2 2v14c0 1.1.9 2 2 2h14c1.1 0 2-.9 2-2V5c0-1.1-.9-2-2-2zM9 17H7v-7h2v7zm4 0h-2V7h2v10zm4 0h-2v-4h2v4z\"/>\n",
              "    </g>\n",
              "</svg>\n",
              "  </button>\n",
              "\n",
              "<style>\n",
              "  .colab-df-quickchart {\n",
              "      --bg-color: #E8F0FE;\n",
              "      --fill-color: #1967D2;\n",
              "      --hover-bg-color: #E2EBFA;\n",
              "      --hover-fill-color: #174EA6;\n",
              "      --disabled-fill-color: #AAA;\n",
              "      --disabled-bg-color: #DDD;\n",
              "  }\n",
              "\n",
              "  [theme=dark] .colab-df-quickchart {\n",
              "      --bg-color: #3B4455;\n",
              "      --fill-color: #D2E3FC;\n",
              "      --hover-bg-color: #434B5C;\n",
              "      --hover-fill-color: #FFFFFF;\n",
              "      --disabled-bg-color: #3B4455;\n",
              "      --disabled-fill-color: #666;\n",
              "  }\n",
              "\n",
              "  .colab-df-quickchart {\n",
              "    background-color: var(--bg-color);\n",
              "    border: none;\n",
              "    border-radius: 50%;\n",
              "    cursor: pointer;\n",
              "    display: none;\n",
              "    fill: var(--fill-color);\n",
              "    height: 32px;\n",
              "    padding: 0;\n",
              "    width: 32px;\n",
              "  }\n",
              "\n",
              "  .colab-df-quickchart:hover {\n",
              "    background-color: var(--hover-bg-color);\n",
              "    box-shadow: 0 1px 2px rgba(60, 64, 67, 0.3), 0 1px 3px 1px rgba(60, 64, 67, 0.15);\n",
              "    fill: var(--button-hover-fill-color);\n",
              "  }\n",
              "\n",
              "  .colab-df-quickchart-complete:disabled,\n",
              "  .colab-df-quickchart-complete:disabled:hover {\n",
              "    background-color: var(--disabled-bg-color);\n",
              "    fill: var(--disabled-fill-color);\n",
              "    box-shadow: none;\n",
              "  }\n",
              "\n",
              "  .colab-df-spinner {\n",
              "    border: 2px solid var(--fill-color);\n",
              "    border-color: transparent;\n",
              "    border-bottom-color: var(--fill-color);\n",
              "    animation:\n",
              "      spin 1s steps(1) infinite;\n",
              "  }\n",
              "\n",
              "  @keyframes spin {\n",
              "    0% {\n",
              "      border-color: transparent;\n",
              "      border-bottom-color: var(--fill-color);\n",
              "      border-left-color: var(--fill-color);\n",
              "    }\n",
              "    20% {\n",
              "      border-color: transparent;\n",
              "      border-left-color: var(--fill-color);\n",
              "      border-top-color: var(--fill-color);\n",
              "    }\n",
              "    30% {\n",
              "      border-color: transparent;\n",
              "      border-left-color: var(--fill-color);\n",
              "      border-top-color: var(--fill-color);\n",
              "      border-right-color: var(--fill-color);\n",
              "    }\n",
              "    40% {\n",
              "      border-color: transparent;\n",
              "      border-right-color: var(--fill-color);\n",
              "      border-top-color: var(--fill-color);\n",
              "    }\n",
              "    60% {\n",
              "      border-color: transparent;\n",
              "      border-right-color: var(--fill-color);\n",
              "    }\n",
              "    80% {\n",
              "      border-color: transparent;\n",
              "      border-right-color: var(--fill-color);\n",
              "      border-bottom-color: var(--fill-color);\n",
              "    }\n",
              "    90% {\n",
              "      border-color: transparent;\n",
              "      border-bottom-color: var(--fill-color);\n",
              "    }\n",
              "  }\n",
              "</style>\n",
              "\n",
              "  <script>\n",
              "    async function quickchart(key) {\n",
              "      const quickchartButtonEl =\n",
              "        document.querySelector('#' + key + ' button');\n",
              "      quickchartButtonEl.disabled = true;  // To prevent multiple clicks.\n",
              "      quickchartButtonEl.classList.add('colab-df-spinner');\n",
              "      try {\n",
              "        const charts = await google.colab.kernel.invokeFunction(\n",
              "            'suggestCharts', [key], {});\n",
              "      } catch (error) {\n",
              "        console.error('Error during call to suggestCharts:', error);\n",
              "      }\n",
              "      quickchartButtonEl.classList.remove('colab-df-spinner');\n",
              "      quickchartButtonEl.classList.add('colab-df-quickchart-complete');\n",
              "    }\n",
              "    (() => {\n",
              "      let quickchartButtonEl =\n",
              "        document.querySelector('#df-0438de23-d07e-425e-8654-8030acdf8942 button');\n",
              "      quickchartButtonEl.style.display =\n",
              "        google.colab.kernel.accessAllowed ? 'block' : 'none';\n",
              "    })();\n",
              "  </script>\n",
              "</div>\n",
              "\n",
              "    </div>\n",
              "  </div>\n"
            ],
            "application/vnd.google.colaboratory.intrinsic+json": {
              "type": "dataframe",
              "variable_name": "df",
              "summary": "{\n  \"name\": \"df\",\n  \"rows\": 150,\n  \"fields\": [\n    {\n      \"column\": \"sepal_length\",\n      \"properties\": {\n        \"dtype\": \"number\",\n        \"std\": 0.8280661279778629,\n        \"min\": 4.3,\n        \"max\": 7.9,\n        \"num_unique_values\": 35,\n        \"samples\": [\n          6.2,\n          4.5,\n          5.6\n        ],\n        \"semantic_type\": \"\",\n        \"description\": \"\"\n      }\n    },\n    {\n      \"column\": \"sepal_width\",\n      \"properties\": {\n        \"dtype\": \"number\",\n        \"std\": 0.4335943113621737,\n        \"min\": 2.0,\n        \"max\": 4.4,\n        \"num_unique_values\": 23,\n        \"samples\": [\n          2.3,\n          4.0,\n          3.5\n        ],\n        \"semantic_type\": \"\",\n        \"description\": \"\"\n      }\n    },\n    {\n      \"column\": \"petal_length\",\n      \"properties\": {\n        \"dtype\": \"number\",\n        \"std\": 1.7644204199522617,\n        \"min\": 1.0,\n        \"max\": 6.9,\n        \"num_unique_values\": 43,\n        \"samples\": [\n          6.7,\n          3.8,\n          3.7\n        ],\n        \"semantic_type\": \"\",\n        \"description\": \"\"\n      }\n    },\n    {\n      \"column\": \"petal_width\",\n      \"properties\": {\n        \"dtype\": \"number\",\n        \"std\": 0.7631607417008414,\n        \"min\": 0.1,\n        \"max\": 2.5,\n        \"num_unique_values\": 22,\n        \"samples\": [\n          0.2,\n          1.2,\n          1.3\n        ],\n        \"semantic_type\": \"\",\n        \"description\": \"\"\n      }\n    },\n    {\n      \"column\": \"class\",\n      \"properties\": {\n        \"dtype\": \"category\",\n        \"num_unique_values\": 3,\n        \"samples\": [\n          \"Iris-setosa\",\n          \"Iris-versicolor\",\n          \"Iris-virginica\"\n        ],\n        \"semantic_type\": \"\",\n        \"description\": \"\"\n      }\n    }\n  ]\n}"
            }
          },
          "metadata": {},
          "execution_count": 6
        }
      ]
    },
    {
      "cell_type": "markdown",
      "source": [
        "#Análisis de los resltados:\n",
        "\n",
        "Se logra identificar rápidamente patrones visuales importantes como:\n",
        "\n",
        "###La concentración o dispersión de los valores.\n",
        "###Relaciones claras entre características (que serán útiles posteriormente para clasificación).\n",
        "###Confirmar que los datos han sido cargados y estructurados correctamente.\n",
        "\n",
        "Es importante indicar que estos gráficas proporcionan una visión general inicial, que facilita el posterior desarrollo de modelos de machine learning (como mi perceptrón), identificando claramente cómo se distribuyen y relacionan los datos antes de iniciar el proceso de entrenamiento."
      ],
      "metadata": {
        "id": "RKfevp2IW5mU"
      }
    },
    {
      "cell_type": "markdown",
      "source": [
        "# Preparación de datos para clasificación binaria"
      ],
      "metadata": {
        "id": "-AatoxHu9Y6k"
      }
    },
    {
      "cell_type": "code",
      "source": [
        "# Se filtran y se seleccionan solo dos clases para clasificación binaria: Setosa y Versicolor\n",
        "df_binary = df[df['class'].isin(['Iris-setosa', 'Iris-versicolor'])].copy()\n",
        "\n",
        "# La función .copy() es usada para crear una copia independiente del dataset filtrado y evitar advertencias en pandas al modificar el dataframe original.\n",
        "\n",
        "# Cambiar etiquetas de clase a valores numéricos (Setosa=0, Versicolor=1),\n",
        "# Esto transforma las etiquetas categóricas en valores numéricos: Iris-setosa → 0 Iris-versicolor → 1\n",
        "df_binary['class'] = df_binary['class'].map({'Iris-setosa': 0, 'Iris-versicolor': 1})\n",
        "\n",
        "# Separar en características (X) y etiquetas (y) X (características): contiene las primeras cuatro columnas (longitud del sépalo, ancho del sépalo, longitud del pétalo, ancho del pétalo).\n",
        "# y (etiquetas): contiene la última columna (clase numérica, 0 o 1).\n",
        "X = df_binary.iloc[:, :-1].values\n",
        "y = df_binary.iloc[:, -1].values\n",
        "\n",
        "# Mostrar el tamaño de los datos\n",
        "print(f\"Tamaño dataset: {X.shape}\")\n",
        "\n",
        "# Si tengo 100 registros y 4 características (largo y ancho del sépalo y pétalo) para realizar la clasificación binaria.\n"
      ],
      "metadata": {
        "colab": {
          "base_uri": "https://localhost:8080/"
        },
        "id": "dsvZznuy9jro",
        "outputId": "f2d58ee8-7f3d-4ff6-b9bc-dbe915af7983"
      },
      "execution_count": null,
      "outputs": [
        {
          "output_type": "stream",
          "name": "stdout",
          "text": [
            "Tamaño dataset: (100, 4)\n"
          ]
        }
      ]
    },
    {
      "cell_type": "markdown",
      "source": [
        "# Análsis de los resultados de la preparación de datos.\n",
        "\n",
        "Se realizó exitosamente una transformación del dataset original (con 3 especies de Iris) a un dataset para una clasificación binaria (tal como se solicita en el enunciado del proyecto 2) que incluye únicamente las clases \"Setosa\" y \"Versicolor\", esto se realizó porque dichas clases son las que tienen una separación más clara.\n",
        "\n",
        "# Es importante resaltar que se convirtieron etiquetas categóricas a numéricas, asignando:\n",
        "0: Iris-setosa\n",
        "1: Iris-versicolor\n",
        "\n",
        "El nuevo dataset tiene 100 registros y 4 características (longitud y ancho del sépalo, longitud y ancho del pétalo)."
      ],
      "metadata": {
        "id": "SnpQXcx8X6pH"
      }
    },
    {
      "cell_type": "code",
      "source": [
        "import matplotlib.pyplot as plt\n",
        "import seaborn as sns\n",
        "# import pandas as pd\n",
        "\n",
        "# Dataset Iris directamente desde URL\n",
        "# url = \"https://archive.ics.uci.edu/ml/machine-learning-databases/iris/iris.data\"\n",
        "df = pd.read_csv(url, header=None, names=[\"sepal_length\", \"sepal_width\", \"petal_length\", \"petal_width\", \"species\"])\n",
        "\n",
        "# Visualización de las tres especies\n",
        "plt.figure(figsize=(10, 7))\n",
        "sns.scatterplot(\n",
        "    x='petal_length',\n",
        "    y='petal_width',\n",
        "    hue='species',\n",
        "    data=df,\n",
        "    palette='Set1',\n",
        "    style='species',\n",
        "    s=100\n",
        ")\n",
        "\n",
        "plt.title('Visualización clara de las tres especies de Iris (Pétalos)')\n",
        "plt.xlabel('Longitud del pétalo (cm)')\n",
        "plt.ylabel('Ancho del pétalo (cm)')\n",
        "plt.grid(True)\n",
        "plt.show()"
      ],
      "metadata": {
        "colab": {
          "base_uri": "https://localhost:8080/",
          "height": 642
        },
        "id": "cKdPYUVfmSJO",
        "outputId": "9086cbfd-3907-4800-f1c9-23431ecfa582"
      },
      "execution_count": null,
      "outputs": [
        {
          "output_type": "display_data",
          "data": {
            "text/plain": [
              "<Figure size 1000x700 with 1 Axes>"
            ],
            "image/png": "[encoded data removed]"
          },
          "metadata": {}
        }
      ]
    },
    {
      "cell_type": "markdown",
      "source": [
        "# Resultados encontrados:\n",
        "\n",
        "## * Iris-setosa (En Rojo) claramente separada y agrupada abajo a la izquierda (pétalos más pequeños).\n",
        "\n",
        "## * Iris-versicolor (Azúl) en posición intermedia, separada relativamente clara pero más cercana a Iris-virginica.\n",
        "\n",
        "## * Iris-virginica (La del color verde) con pétalos más grandes arriba a la derecha.\n",
        "\n",
        "#### En la gráfica se puede apreciar claramente cómo las especies Iris-setosa e Iris-versicolor son las que más fácilmente se pueden separar utilizando un perceptrón, ya que tienen una frontera clara."
      ],
      "metadata": {
        "id": "H8hAWKN9mfH7"
      }
    },
    {
      "cell_type": "code",
      "source": [
        "import matplotlib.pyplot as plt\n",
        "import seaborn as sns\n",
        "# import pandas as pd\n",
        "\n",
        "# use 'clase' como nombre de columna para ser coherente con las operaciones de filtrado posteriormente en el código\n",
        "df = pd.read_csv(url, header=None, names=[\"sepal_length\", \"sepal_width\", \"petal_length\", \"petal_width\", \"class\"])\n",
        "\n",
        "# Filtrar solo Setosa y Versicolor\n",
        "df_binary = df[df['class'].isin(['Iris-setosa', 'Iris-versicolor'])]\n",
        "\n",
        "\n",
        "# Crear gráfica de dispersión usando características clave (pétalos)\n",
        "plt.figure(figsize=(8, 6))\n",
        "sns.scatterplot(\n",
        "    x='petal_length',\n",
        "    y='petal_width',\n",
        "    hue='class',\n",
        "    data=df_binary,\n",
        "    palette='Set1',\n",
        "    style='class',\n",
        "    s=100\n",
        ")\n",
        "\n",
        "plt.title('Separación visual entre Iris-setosa y Iris-versicolor (Pétalo)')\n",
        "plt.xlabel('Longitud del Pétalo (cm)')\n",
        "plt.ylabel('Ancho del Pétalo (cm)')\n",
        "plt.grid(True)\n",
        "plt.show()\n"
      ],
      "metadata": {
        "colab": {
          "base_uri": "https://localhost:8080/",
          "height": 565
        },
        "id": "_tfzgp7sfwlp",
        "outputId": "fb14066a-1d06-4718-db90-db1ad9903c84"
      },
      "execution_count": null,
      "outputs": [
        {
          "output_type": "display_data",
          "data": {
            "text/plain": [
              "<Figure size 800x600 with 1 Axes>"
            ],
            "image/png": "[encoded data removed]"
          },
          "metadata": {}
        }
      ]
    },
    {
      "cell_type": "markdown",
      "source": [
        "## En conclusión:\n",
        "Esta separación visual clara es la que se necesita para el uso de estas dos clases para entrenar un perceptrón en una tarea de clasificación binaria."
      ],
      "metadata": {
        "id": "PQbJyk73nZr1"
      }
    },
    {
      "cell_type": "markdown",
      "source": [
        "# División de los conjuntos de entrenamiento y prueba"
      ],
      "metadata": {
        "id": "ATlIAyRN9v6l"
      }
    },
    {
      "cell_type": "code",
      "source": [
        "# Dividir los datos en entrenamiento (80% para que el modelo aprenda los patrones) y prueba (20% será usado para evaluar qué tan bien está el modelo)\n",
        "from sklearn.model_selection import train_test_split\n",
        "\n",
        "# random_state=42 La división entrenamiento-prueba generalmente ocurre al azar (aleatoriamente). Si no se especifica el valor random_state, cada vez habrá diferentes conjuntos de entrenamiento y prueba al ejecutar el código nuevamente.\n",
        "#Al definir explícitamente random_state=42 (puedes usar cualquier número, pero 42 es comúnmente utilizado por convención)\n",
        "# Por lo que random_state=42 permite comparar consistentemente los resultados de diferentes pruebas o experimentos.\n",
        "\n",
        "# Cada ejecución será diferente (X_train, X_test, y_train, y_test = train_test_split(X, y, test_size=0.2))\n",
        "X_train, X_test, y_train, y_test = train_test_split(X, y, test_size=0.2, random_state=42)\n",
        "\n",
        "# Mostrar tamaños conjuntos\n",
        "print(f\"Datos entrenamiento: {X_train.shape}\")\n",
        "print(f\"Datos prueba: {X_test.shape}\")\n"
      ],
      "metadata": {
        "colab": {
          "base_uri": "https://localhost:8080/"
        },
        "id": "rIMPLeBT96C0",
        "outputId": "74e97d50-4b08-48dc-c481-b5a0b622f931"
      },
      "execution_count": null,
      "outputs": [
        {
          "output_type": "stream",
          "name": "stdout",
          "text": [
            "Datos entrenamiento: (80, 4)\n",
            "Datos prueba: (20, 4)\n"
          ]
        }
      ]
    },
    {
      "cell_type": "markdown",
      "source": [
        "# Análisis de los resultados:\n",
        "\n",
        "Se dividió de forma correcta el dataset binario en dos conjuntos:\n",
        "\n",
        "###Entrenamiento (80%): 80 muestras que utilizarás para que el perceptrón \"aprenda\" a diferenciar entre las dos especies.\n",
        "\n",
        "###Prueba (20%): 20 muestras con las cuales evaluará la capacidad del perceptrón para generalizar y predecir correctamente.\n",
        "\n",
        "* Por lo que se puede concluir que la eleccion 80-20 permite tener suficientes datos para entrenar mientras se mantiene un conjunto representativo para pruebas.\n",
        "\n",
        "* Explicación de random_state=42: indicar brevemente que esto garantiza reproducibilidad (siempre se obtiene la misma división cada vez que se ejecuta el código).\n",
        "\n",
        "Esta división permite evaluar si el modelo es capaz de predecir bien con datos que nunca antes ha visto, simulando su uso en un escenario real."
      ],
      "metadata": {
        "id": "LAcHICY4ZrzV"
      }
    },
    {
      "cell_type": "markdown",
      "source": [
        "# Definición del perceptrón simple desde cero sin uso de librerias.\n",
        "\n",
        "### El perceptrón consta de:\n",
        "\n",
        "### * Épocas (epochs): Número de veces que el algoritmo revisará el conjunto de datos para ajustar sus parámetros (pesos y bias).\n",
        "\n",
        "### * Pesos (weights) y sesgo (bias): Parámetros del perceptrón que se ajustan durante el entrenamiento para aprender a clasificar correctamente.\n",
        "\n",
        "### * Función de activación (step):\n",
        "Devuelve:\n",
        "0 si la salida lineal es negativa.\n",
        "1 si la salida lineal es positiva o cero."
      ],
      "metadata": {
        "id": "9zhLiz0n-D8M"
      }
    },
    {
      "cell_type": "code",
      "source": [
        "# Creación del perceptrón simple desde cero\n",
        "class PerceptronSimple:\n",
        "    def __init__(self, epochs=100):\n",
        "        self.epochs = epochs\n",
        "        self.weights = None\n",
        "        self.bias = None\n",
        "\n",
        "    # Función de activación step\n",
        "    def activation_function(self, x):\n",
        "        return np.where(x >= 0, 1, 0)\n",
        "\n",
        "    # Entrenar perceptrón\n",
        "    def fit(self, X, y):\n",
        "        n_samples, n_features = X.shape\n",
        "        # Aquí se inicializan pesos y sesgo en cero.\n",
        "        self.weights = np.zeros(n_features)\n",
        "        self.bias = 0\n",
        "\n",
        "        for epoch in range(self.epochs):\n",
        "            for idx, x_i in enumerate(X):\n",
        "                linear_output = np.dot(x_i, self.weights) + self.bias\n",
        "                y_pred = self.activation_function(linear_output)\n",
        "                update = y[idx] - y_pred\n",
        "                self.weights += update * x_i\n",
        "                self.bias += update\n",
        "\n",
        "        print(\"Entrenamiento completado\")\n",
        "\n",
        "    # Predicción del perceptrón\n",
        "    def activation_function(self, x):\n",
        "        return np.where(x >= 0, 1, 0)\n",
        "\n",
        "    def predict(self, X):\n",
        "        linear_output = np.dot(X, self.weights) + self.bias\n",
        "        return self.activation_function(linear_output)\n",
        "\n"
      ],
      "metadata": {
        "id": "c1HR5g_S-Ns8"
      },
      "execution_count": null,
      "outputs": []
    },
    {
      "cell_type": "markdown",
      "source": [
        "Entrenamiento del perceptrón"
      ],
      "metadata": {
        "id": "T_cgbdLg-Sp6"
      }
    },
    {
      "cell_type": "code",
      "source": [
        "# Inicializar y entrenar el perceptrón\n",
        "perceptron = PerceptronSimple()\n",
        "perceptron.fit(X_train, y_train)\n"
      ],
      "metadata": {
        "colab": {
          "base_uri": "https://localhost:8080/"
        },
        "id": "PYyvyX82-Wz-",
        "outputId": "bd984705-4e3f-4735-df27-81dee52e9bf7"
      },
      "execution_count": null,
      "outputs": [
        {
          "output_type": "stream",
          "name": "stdout",
          "text": [
            "Entrenamiento completado\n"
          ]
        }
      ]
    },
    {
      "cell_type": "code",
      "source": [
        "# Entrenamos el perceptrón por defecto con 100 épocas\n",
        "perceptron = PerceptronSimple(epochs=100)\n",
        "\n",
        "# Ajuste automático de pesos y sesgo según datos de entrenamiento\n",
        "perceptron.fit(X_train, y_train)\n",
        "\n",
        "# Evaluación del modelo en datos no vistos durante entrenamiento (prueba)\n",
        "y_pred = perceptron.predict(X_test)\n",
        "\n",
        "# Calculamos precisión del perceptrón (porcentaje de aciertos)\n",
        "accuracy = np.mean(y_pred == y_test)\n",
        "print(f\"Precisión del Perceptrón simple: {accuracy * 100:.2f}%\")\n"
      ],
      "metadata": {
        "colab": {
          "base_uri": "https://localhost:8080/"
        },
        "id": "XwaBLpHayGNB",
        "outputId": "cf218905-005c-4451-d33c-aa7af7e7c4ba"
      },
      "execution_count": null,
      "outputs": [
        {
          "output_type": "stream",
          "name": "stdout",
          "text": [
            "Entrenamiento completado\n",
            "Precisión del Perceptrón simple: 100.00%\n"
          ]
        }
      ]
    },
    {
      "cell_type": "markdown",
      "source": [
        "Evaluación del perceptrón"
      ],
      "metadata": {
        "id": "4f9FC3Yd-ctc"
      }
    },
    {
      "cell_type": "code",
      "source": [
        "# Evaluar precisión del perceptrón\n",
        "y_pred = perceptron.predict(X_test)\n",
        "\n",
        "# Calcular precisión del modelo\n",
        "accuracy = np.mean(y_pred == y_test)\n",
        "print(f\"Precisión del Perceptrón simple: {accuracy * 100:.2f}%\")\n"
      ],
      "metadata": {
        "colab": {
          "base_uri": "https://localhost:8080/"
        },
        "id": "okUf72th-eLg",
        "outputId": "7a1b9710-228d-4d78-9cef-d5bb37c1b888"
      },
      "execution_count": null,
      "outputs": [
        {
          "output_type": "stream",
          "name": "stdout",
          "text": [
            "Precisión del Perceptrón simple: 100.00%\n"
          ]
        }
      ]
    },
    {
      "cell_type": "code",
      "source": [
        "from sklearn.metrics import confusion_matrix, classification_report\n",
        "\n",
        "# Matriz de confusión\n",
        "cm = confusion_matrix(y_test, y_pred)\n",
        "print(\"Matriz de Confusión:\\n\", cm)\n",
        "\n",
        "# Reporte de métricas\n",
        "report = classification_report(y_test, y_pred, target_names=['Setosa', 'Versicolor'])\n",
        "print(\"Reporte de clasificación:\\n\", report)\n"
      ],
      "metadata": {
        "colab": {
          "base_uri": "https://localhost:8080/"
        },
        "id": "I4ZMmdKeyL57",
        "outputId": "1440e0ff-bf20-4c50-e572-2875ee37864d"
      },
      "execution_count": null,
      "outputs": [
        {
          "output_type": "stream",
          "name": "stdout",
          "text": [
            "Matriz de Confusión:\n",
            " [[12  0]\n",
            " [ 0  8]]\n",
            "Reporte de clasificación:\n",
            "               precision    recall  f1-score   support\n",
            "\n",
            "      Setosa       1.00      1.00      1.00        12\n",
            "  Versicolor       1.00      1.00      1.00         8\n",
            "\n",
            "    accuracy                           1.00        20\n",
            "   macro avg       1.00      1.00      1.00        20\n",
            "weighted avg       1.00      1.00      1.00        20\n",
            "\n"
          ]
        }
      ]
    },
    {
      "cell_type": "markdown",
      "source": [
        "* Hay 12 muestras de Iris-setosa y 8 de Iris-versicolor en el conjunto de prueba (20 muestras en total).\n",
        "\n",
        "* No hay falsos positivos ni falsos negativos: todas las muestras fueron clasificadas correctamente.\n",
        "\n",
        "- **Precision, recall y F1-score:** Todas las métricas son 1.00 para ambas clases, lo que indica un rendimiento perfecto.\n",
        "- **Accuracy:** Confirma el 100% de precisión global."
      ],
      "metadata": {
        "id": "xZMi93wiV5er"
      }
    },
    {
      "cell_type": "markdown",
      "source": [
        "# Conclusión:\n",
        "\n",
        "### El perceptrón simple implementado clasifica con éxito las clases Iris-setosa e Iris-versicolor del dataset Iris, espro alcanzando una precisión del 100% en el conjunto de prueba, lo que supera el objetivo del 95%. Esto se debe a la naturaleza linealmente separable de las clases seleccionadas, lo que hace que el perceptrón simple sea una herramienta adecuada para este problema. La preparación de datos y la división 80-20 fueron correctas, y el uso de random_state=42 garantiza reproducibilidad.\n",
        "\n",
        "\n"
      ],
      "metadata": {
        "id": "wQz1I4AzyVRZ"
      }
    }
  ]
}